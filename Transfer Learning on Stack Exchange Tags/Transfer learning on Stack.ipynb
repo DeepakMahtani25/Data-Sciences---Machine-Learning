{
 "cells": [
  {
   "cell_type": "markdown",
   "metadata": {},
   "source": [
    "# PROJECT: TRANSFER LEARNING ON STACK EXCHANGE TAGS "
   ]
  },
  {
   "cell_type": "markdown",
   "metadata": {},
   "source": [
    "### Read and Open into the Dataset"
   ]
  },
  {
   "cell_type": "markdown",
   "metadata": {},
   "source": [
    "The is the first step of this project which is to read and open the data files(s). The dataset contains 8 files in total. They are **\"biology.csv\", \"cooking.csv\", \"crypto.csv\", \"diy.csv\", \"robotics.csv\",\"travel.csv\", \"test.csv\"**. \n",
    "Each of thes files are in **csv** format. \n",
    "There is a built in python library called **pandas** which is very handy in working with reading and opening **csv** files. In order to read into the file a method **pd.read_csv()** will be called from the pandas library. We can learn more about this in the [pandas-documentation](http://pandas.pydata.org/pandas-docs/stable/)\n",
    "\n",
    "The method pd.read_csv will be applied below to open our datasets below:"
   ]
  },
  {
   "cell_type": "code",
   "execution_count": null,
   "metadata": {
    "collapsed": true
   },
   "outputs": [],
   "source": []
  }
 ],
 "metadata": {
  "anaconda-cloud": {},
  "kernelspec": {
   "display_name": "Python [default]",
   "language": "python",
   "name": "python2"
  },
  "language_info": {
   "codemirror_mode": {
    "name": "ipython",
    "version": 2
   },
   "file_extension": ".py",
   "mimetype": "text/x-python",
   "name": "python",
   "nbconvert_exporter": "python",
   "pygments_lexer": "ipython2",
   "version": "2.7.12"
  }
 },
 "nbformat": 4,
 "nbformat_minor": 1
}
