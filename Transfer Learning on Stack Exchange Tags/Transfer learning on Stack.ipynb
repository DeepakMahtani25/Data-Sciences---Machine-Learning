{
 "cells": [
  {
   "cell_type": "markdown",
   "metadata": {},
   "source": [
    "# PROJECT: TRANSFER LEARNING ON STACK EXCHANGE TAGS "
   ]
  },
  {
   "cell_type": "markdown",
   "metadata": {},
   "source": [
    "### Read and Open into the Dataset"
   ]
  },
  {
   "cell_type": "markdown",
   "metadata": {},
   "source": [
    "The is the first step of this project which is to read and open the data files(s). The dataset contains 8 files in total. They are **\"biology.csv\", \"cooking.csv\", \"crypto.csv\", \"diy.csv\", \"robotics.csv\",\"travel.csv\", \"test.csv\"**. \n",
    "Each of thes files are in **csv** format. \n",
    "There is a built in python library called **pandas** which is very handy in working with reading and opening **csv** files. In order to read into the file a method **pd.read_csv()** will be called from the pandas library. We can learn more about this in the [pandas-documentation](http://pandas.pydata.org/pandas-docs/stable/)\n",
    "\n",
    "The method pd.read_csv will be applied below to open our datasets below:"
   ]
  },
  {
   "cell_type": "code",
   "execution_count": 1,
   "metadata": {
    "collapsed": false
   },
   "outputs": [
    {
     "name": "stdout",
     "output_type": "stream",
     "text": [
      "Data loaded succesfully!\n",
      "Stack Exchange Data has 168926 rows with 4 columns each.\n"
     ]
    }
   ],
   "source": [
    "# Here the necessary modules will be imported \n",
    "import glob\n",
    "import os\n",
    "import pandas as pd\n",
    "pd.set_option(\"display.max_rows\", 999)\n",
    "pd.set_option('max_colwidth',100)\n",
    "import numpy as np\n",
    "from IPython.display import display\n",
    "%matplotlib inline\n",
    "\n",
    "path =\"data/\" #path where files are stored\n",
    "all_files = glob.glob(path + \"/*.csv\")\n",
    "frame = pd.DataFrame()\n",
    "\n",
    "data_files_list = []\n",
    "\n",
    "for item in all_files:\n",
    "    df = pd.read_csv(item, index_col=None, header=0)\n",
    "    data_files_list.append(df)\n",
    "\n",
    "stack_data_merged = pd.concat(data_files_list)\n",
    "column_order = [\"id\", \"title\" , \"content\", \"tags\"]\n",
    "stack_exchange_data = stack_data_merged[column_order]\n",
    "\n",
    "print (\"Data loaded succesfully!\")\n",
    "print (\"Stack Exchange Data has {} rows with {} columns each.\".format(*stack_exchange_data.shape))"
   ]
  },
  {
   "cell_type": "markdown",
   "metadata": {},
   "source": [
    "After loading the dataset. We can test it by printing out the first 10 columns by calling **.head()**"
   ]
  },
  {
   "cell_type": "code",
   "execution_count": 2,
   "metadata": {
    "collapsed": false
   },
   "outputs": [
    {
     "data": {
      "text/html": [
       "<div>\n",
       "<table border=\"1\" class=\"dataframe\">\n",
       "  <thead>\n",
       "    <tr style=\"text-align: right;\">\n",
       "      <th></th>\n",
       "      <th>id</th>\n",
       "      <th>title</th>\n",
       "      <th>content</th>\n",
       "      <th>tags</th>\n",
       "    </tr>\n",
       "  </thead>\n",
       "  <tbody>\n",
       "    <tr>\n",
       "      <th>0</th>\n",
       "      <td>1</td>\n",
       "      <td>What is the criticality of the ribosome binding site relative to the start codon in prokaryotic ...</td>\n",
       "      <td>&lt;p&gt;In prokaryotic translation, how critical for efficient translation is the location of the rib...</td>\n",
       "      <td>ribosome binding-sites translation synthetic-biology</td>\n",
       "    </tr>\n",
       "    <tr>\n",
       "      <th>1</th>\n",
       "      <td>2</td>\n",
       "      <td>How is RNAse contamination in RNA based experiments prevented?</td>\n",
       "      <td>&lt;p&gt;Does anyone have any suggestions to prevent RNAse contamination when working with RNA?&lt;/p&gt;\\n\\...</td>\n",
       "      <td>rna biochemistry</td>\n",
       "    </tr>\n",
       "    <tr>\n",
       "      <th>2</th>\n",
       "      <td>3</td>\n",
       "      <td>Are lymphocyte sizes clustered in two groups?</td>\n",
       "      <td>&lt;p&gt;Tortora writes in &lt;em&gt;Principles of Anatomy and Physiology&lt;/em&gt;:&lt;/p&gt;\\n\\n&lt;blockquote&gt;\\n  &lt;p&gt;Ly...</td>\n",
       "      <td>immunology cell-biology hematology</td>\n",
       "    </tr>\n",
       "    <tr>\n",
       "      <th>3</th>\n",
       "      <td>4</td>\n",
       "      <td>How long does antibiotic-dosed LB maintain good selection?</td>\n",
       "      <td>&lt;p&gt;Various people in our lab will prepare a liter or so of LB, add kanamycin to 25-37 mg/L for s...</td>\n",
       "      <td>cell-culture</td>\n",
       "    </tr>\n",
       "    <tr>\n",
       "      <th>4</th>\n",
       "      <td>5</td>\n",
       "      <td>Is exon order always preserved in splicing?</td>\n",
       "      <td>&lt;p&gt;Are there any cases in which the splicing machinery constructs an mRNA in which the exons are...</td>\n",
       "      <td>splicing mrna spliceosome introns exons</td>\n",
       "    </tr>\n",
       "    <tr>\n",
       "      <th>5</th>\n",
       "      <td>6</td>\n",
       "      <td>How can I avoid digesting protein-bound DNA?</td>\n",
       "      <td>&lt;p&gt;I'm interested in sequencing and analyzing the bound DNA, and minimizing the amount of unboun...</td>\n",
       "      <td>dna biochemistry molecular-biology</td>\n",
       "    </tr>\n",
       "    <tr>\n",
       "      <th>6</th>\n",
       "      <td>8</td>\n",
       "      <td>Under what conditions do dendritic spines form?</td>\n",
       "      <td>&lt;p&gt;I'm looking for resources or any information about the formation of dendritic spines and syna...</td>\n",
       "      <td>neuroscience synapses</td>\n",
       "    </tr>\n",
       "    <tr>\n",
       "      <th>7</th>\n",
       "      <td>9</td>\n",
       "      <td>How should I ship plasmids?</td>\n",
       "      <td>&lt;p&gt;I shipped 10 µL of my vector miniprep to a collaborator in a 1.5 mL eppendorf parafilmed shut...</td>\n",
       "      <td>plasmids</td>\n",
       "    </tr>\n",
       "    <tr>\n",
       "      <th>8</th>\n",
       "      <td>10</td>\n",
       "      <td>What is the reason behind choosing the reporter gene when experimenting on your gene of interest?</td>\n",
       "      <td>&lt;p&gt;I noticed within example experiments in class that different reporter genes are chosen to be ...</td>\n",
       "      <td>molecular-genetics gene-expression experimental-design</td>\n",
       "    </tr>\n",
       "    <tr>\n",
       "      <th>9</th>\n",
       "      <td>11</td>\n",
       "      <td>How many times did endosymbiosis occur?</td>\n",
       "      <td>&lt;p&gt;According to the endosymbiont theory, mitochondria and chloroplasts originated as bacteria wh...</td>\n",
       "      <td>evolution mitochondria chloroplasts</td>\n",
       "    </tr>\n",
       "  </tbody>\n",
       "</table>\n",
       "</div>"
      ],
      "text/plain": [
       "   id  \\\n",
       "0   1   \n",
       "1   2   \n",
       "2   3   \n",
       "3   4   \n",
       "4   5   \n",
       "5   6   \n",
       "6   8   \n",
       "7   9   \n",
       "8  10   \n",
       "9  11   \n",
       "\n",
       "                                                                                                 title  \\\n",
       "0  What is the criticality of the ribosome binding site relative to the start codon in prokaryotic ...   \n",
       "1                                       How is RNAse contamination in RNA based experiments prevented?   \n",
       "2                                                        Are lymphocyte sizes clustered in two groups?   \n",
       "3                                           How long does antibiotic-dosed LB maintain good selection?   \n",
       "4                                                          Is exon order always preserved in splicing?   \n",
       "5                                                         How can I avoid digesting protein-bound DNA?   \n",
       "6                                                      Under what conditions do dendritic spines form?   \n",
       "7                                                                          How should I ship plasmids?   \n",
       "8    What is the reason behind choosing the reporter gene when experimenting on your gene of interest?   \n",
       "9                                                              How many times did endosymbiosis occur?   \n",
       "\n",
       "                                                                                               content  \\\n",
       "0  <p>In prokaryotic translation, how critical for efficient translation is the location of the rib...   \n",
       "1  <p>Does anyone have any suggestions to prevent RNAse contamination when working with RNA?</p>\\n\\...   \n",
       "2  <p>Tortora writes in <em>Principles of Anatomy and Physiology</em>:</p>\\n\\n<blockquote>\\n  <p>Ly...   \n",
       "3  <p>Various people in our lab will prepare a liter or so of LB, add kanamycin to 25-37 mg/L for s...   \n",
       "4  <p>Are there any cases in which the splicing machinery constructs an mRNA in which the exons are...   \n",
       "5  <p>I'm interested in sequencing and analyzing the bound DNA, and minimizing the amount of unboun...   \n",
       "6  <p>I'm looking for resources or any information about the formation of dendritic spines and syna...   \n",
       "7  <p>I shipped 10 µL of my vector miniprep to a collaborator in a 1.5 mL eppendorf parafilmed shut...   \n",
       "8  <p>I noticed within example experiments in class that different reporter genes are chosen to be ...   \n",
       "9  <p>According to the endosymbiont theory, mitochondria and chloroplasts originated as bacteria wh...   \n",
       "\n",
       "                                                     tags  \n",
       "0    ribosome binding-sites translation synthetic-biology  \n",
       "1                                        rna biochemistry  \n",
       "2                      immunology cell-biology hematology  \n",
       "3                                            cell-culture  \n",
       "4                 splicing mrna spliceosome introns exons  \n",
       "5                      dna biochemistry molecular-biology  \n",
       "6                                   neuroscience synapses  \n",
       "7                                                plasmids  \n",
       "8  molecular-genetics gene-expression experimental-design  \n",
       "9                     evolution mitochondria chloroplasts  "
      ]
     },
     "execution_count": 2,
     "metadata": {},
     "output_type": "execute_result"
    }
   ],
   "source": [
    "stack_exchange_data.head(10)"
   ]
  },
  {
   "cell_type": "code",
   "execution_count": null,
   "metadata": {
    "collapsed": true
   },
   "outputs": [],
   "source": []
  }
 ],
 "metadata": {
  "anaconda-cloud": {},
  "kernelspec": {
   "display_name": "Python [default]",
   "language": "python",
   "name": "python2"
  },
  "language_info": {
   "codemirror_mode": {
    "name": "ipython",
    "version": 2
   },
   "file_extension": ".py",
   "mimetype": "text/x-python",
   "name": "python",
   "nbconvert_exporter": "python",
   "pygments_lexer": "ipython2",
   "version": "2.7.12"
  }
 },
 "nbformat": 4,
 "nbformat_minor": 1
}
