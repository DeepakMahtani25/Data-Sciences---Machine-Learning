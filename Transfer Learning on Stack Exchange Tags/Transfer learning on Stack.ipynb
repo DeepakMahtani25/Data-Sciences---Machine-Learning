{
 "cells": [
  {
   "cell_type": "markdown",
   "metadata": {},
   "source": [
    "# PROJECT: TRANSFER LEARNING ON STACK EXCHANGE TAGS "
   ]
  },
  {
   "cell_type": "markdown",
   "metadata": {},
   "source": [
    "### Read and Open into the Dataset"
   ]
  },
  {
   "cell_type": "markdown",
   "metadata": {},
   "source": [
    "The is the first step of this project which is to read and open the data files(s). The dataset contains 8 files in total. They are **\"biology.csv\", \"cooking.csv\", \"crypto.csv\", \"diy.csv\", \"robotics.csv\",\"travel.csv\", \"test.csv\"**. \n",
    "Each of thes files are in **csv** format. \n",
    "There is a built in python library called **pandas** which is very handy in working with reading and opening **csv** files. In order to read into the file a method **pd.read_csv()** will be called from the pandas library. We can learn more about this in the [pandas-documentation](http://pandas.pydata.org/pandas-docs/stable/)\n",
    "\n",
    "The method pd.read_csv will be applied below to open our datasets below:"
   ]
  },
  {
   "cell_type": "code",
   "execution_count": 3,
   "metadata": {
    "collapsed": false
   },
   "outputs": [
    {
     "name": "stdout",
     "output_type": "stream",
     "text": [
      "Data loaded succesfully!\n",
      "Stack Exchange Data has 168926 rows with 4 columns each.\n"
     ]
    }
   ],
   "source": [
    "# Here the necessary modules will be imported \n",
    "import glob\n",
    "import os\n",
    "import pandas as pd\n",
    "pd.set_option(\"display.max_rows\", 999)\n",
    "pd.set_option('max_colwidth',100)\n",
    "import numpy as np\n",
    "from IPython.display import display\n",
    "%matplotlib inline\n",
    "\n",
    "path =\"data/\" #path where files are stored\n",
    "all_files = glob.glob(path + \"/*.csv\")\n",
    "frame = pd.DataFrame()\n",
    "\n",
    "data_files_list = []\n",
    "\n",
    "for item in all_files:\n",
    "    df = pd.read_csv(item, index_col=None, header=0)\n",
    "    data_files_list.append(df)\n",
    "\n",
    "stack_data_merged = pd.concat(data_files_list)\n",
    "column_order = [\"id\", \"title\" , \"content\", \"tags\"]\n",
    "stack_exchange_data = stack_data_merged[column_order]\n",
    "\n",
    "print (\"Data loaded succesfully!\")\n",
    "print (\"Stack Exchange Data has {} rows with {} columns each.\".format(*stack_exchange_data.shape))"
   ]
  }
 ],
 "metadata": {
  "anaconda-cloud": {},
  "kernelspec": {
   "display_name": "Python [default]",
   "language": "python",
   "name": "python2"
  },
  "language_info": {
   "codemirror_mode": {
    "name": "ipython",
    "version": 2
   },
   "file_extension": ".py",
   "mimetype": "text/x-python",
   "name": "python",
   "nbconvert_exporter": "python",
   "pygments_lexer": "ipython2",
   "version": "2.7.12"
  }
 },
 "nbformat": 4,
 "nbformat_minor": 1
}
